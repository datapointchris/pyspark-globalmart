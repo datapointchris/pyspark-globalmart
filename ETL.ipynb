{
 "cells": [
  {
   "cell_type": "code",
   "execution_count": 1,
   "id": "a1410a9c",
   "metadata": {},
   "outputs": [
    {
     "name": "stderr",
     "output_type": "stream",
     "text": [
      "/home/ec2-user/anaconda3/envs/python3/lib/python3.6/site-packages/psycopg2/__init__.py:144: UserWarning: The psycopg2 wheel package will be renamed from release 2.8; in order to keep installing from binary please use \"pip install psycopg2-binary\" instead. For details see: <http://initd.org/psycopg/docs/install.html#binary-install-from-pypi>.\n",
      "  \"\"\")\n"
     ]
    }
   ],
   "source": [
    "import psycopg2\n",
    "import boto3\n",
    "import json\n",
    "from decimal import Decimal\n",
    "import pandas as pd\n",
    "from io import StringIO, BytesIO\n",
    "import argparse\n",
    "import pandas as pd\n",
    "import numpy as np\n",
    "from collections import namedtuple\n",
    "import functools"
   ]
  },
  {
   "cell_type": "markdown",
   "id": "ef1d59d7",
   "metadata": {},
   "source": [
    "# RDS"
   ]
  },
  {
   "cell_type": "code",
   "execution_count": 2,
   "id": "f53e3101",
   "metadata": {},
   "outputs": [],
   "source": [
    "rds_connection = {\n",
    "    'host': '',\n",
    "    'database': 'globalmart',\n",
    "    'user': 'postgres',\n",
    "    'password': 'password',\n",
    "}"
   ]
  },
  {
   "cell_type": "code",
   "execution_count": 3,
   "id": "40eb8461",
   "metadata": {},
   "outputs": [],
   "source": [
    "class GlobalMartDB:\n",
    "    def __init__(self, connection_params):\n",
    "        self.connection_params = connection_params\n",
    "\n",
    "    def connect(self):\n",
    "        \"\"\"Connect to the PostgreSQL database server\"\"\"\n",
    "        try:\n",
    "            connection = psycopg2.connect(**self.connection_params)\n",
    "        except (Exception, psycopg2.DatabaseError) as error:\n",
    "            print(error)\n",
    "        print(\"Connection successful\")\n",
    "        self.connection = connection\n",
    "        return self\n",
    "\n",
    "    def execute(self, sql):\n",
    "        with self.connection as conn:\n",
    "            cursor = conn.cursor()\n",
    "            cursor.execute(sql)\n",
    "            results = cursor.fetchall()\n",
    "            return results\n",
    "\n",
    "    def df_builder(self, sql, columns):\n",
    "        results = self.execute(sql)\n",
    "        return pd.DataFrame(data=results, columns=columns)"
   ]
  },
  {
   "cell_type": "code",
   "execution_count": 4,
   "id": "e0285420",
   "metadata": {},
   "outputs": [],
   "source": [
    "num_orders_sql = \"\"\"\n",
    "    select customer_id,\n",
    "    count(*) as orders\n",
    "    from orders\n",
    "    group by customer_id\n",
    "    order by orders desc;\n",
    "    \"\"\"\n",
    "\n",
    "amount_spent_sql = \"\"\"\n",
    "    with order_totals as(\n",
    "    select order_id,\n",
    "    sum(sales) as total\n",
    "    from transactions\n",
    "    group by order_id\n",
    "    order by total desc\n",
    "    )\n",
    "\n",
    "    select customer_id,\n",
    "    round(cast(sum(order_totals.total) as numeric), 2) as grand_total\n",
    "    from orders\n",
    "    join order_totals on order_totals.order_id = orders.order_id\n",
    "    group by customer_id\n",
    "    order by grand_total desc;\n",
    "    \"\"\"\n",
    "\n",
    "purchase_freq_sql = \"\"\"\n",
    "    select customer_id,\n",
    "    extract(day from (max(order_purchase_date) - min(order_purchase_date)) / count(order_purchase_date))::integer as avg_purchase_freq_days\n",
    "    from orders\n",
    "    group by customer_id\n",
    "    order by customer_id;\n",
    "    \"\"\"\n",
    "\n",
    "num_returns_sql = \"\"\"\n",
    "    with rtns as(\n",
    "    select order_id,\n",
    "    count(*) as no_returns\n",
    "    from returns\n",
    "    group by order_id\n",
    "    )\n",
    "\n",
    "    select customer_id,\n",
    "    sum(rtns.no_returns) as total_returns\n",
    "    from orders\n",
    "    join rtns on rtns.order_id = orders.order_id\n",
    "    group by orders.customer_id\n",
    "    order by total_returns desc;\n",
    "    \"\"\""
   ]
  },
  {
   "cell_type": "code",
   "execution_count": 5,
   "id": "8c16831a",
   "metadata": {},
   "outputs": [],
   "source": [
    "num_orders_columns = ['customer_id', 'num_orders']\n",
    "amount_spent_columns = ['customer_id', 'total_spent']\n",
    "purchase_freq_columns = ['customer_id', 'purchase_freq']\n",
    "num_returns_columns = ['customer_id', 'num_returns']"
   ]
  },
  {
   "cell_type": "code",
   "execution_count": 6,
   "id": "0621866e",
   "metadata": {},
   "outputs": [],
   "source": [
    "statements = [\n",
    "    (num_orders_sql, num_orders_columns),\n",
    "    (amount_spent_sql, amount_spent_columns),\n",
    "    (purchase_freq_sql, purchase_freq_columns),\n",
    "    (num_returns_sql, num_returns_columns),\n",
    "]"
   ]
  },
  {
   "cell_type": "code",
   "execution_count": 7,
   "id": "43a84825",
   "metadata": {},
   "outputs": [
    {
     "name": "stdout",
     "output_type": "stream",
     "text": [
      "Connection successful\n"
     ]
    }
   ],
   "source": [
    "db = GlobalMartDB(rds_connection).connect()"
   ]
  },
  {
   "cell_type": "code",
   "execution_count": 8,
   "id": "f1df3e7b",
   "metadata": {},
   "outputs": [],
   "source": [
    "dfs = [db.df_builder(pair[0], pair[1]) for pair in statements]"
   ]
  },
  {
   "cell_type": "code",
   "execution_count": 9,
   "id": "e2461038",
   "metadata": {},
   "outputs": [],
   "source": [
    "fact_table = functools.reduce(pd.DataFrame.merge, dfs)"
   ]
  },
  {
   "cell_type": "code",
   "execution_count": 10,
   "id": "0dcb953b",
   "metadata": {},
   "outputs": [
    {
     "data": {
      "text/html": [
       "<div>\n",
       "<style scoped>\n",
       "    .dataframe tbody tr th:only-of-type {\n",
       "        vertical-align: middle;\n",
       "    }\n",
       "\n",
       "    .dataframe tbody tr th {\n",
       "        vertical-align: top;\n",
       "    }\n",
       "\n",
       "    .dataframe thead th {\n",
       "        text-align: right;\n",
       "    }\n",
       "</style>\n",
       "<table border=\"1\" class=\"dataframe\">\n",
       "  <thead>\n",
       "    <tr style=\"text-align: right;\">\n",
       "      <th></th>\n",
       "      <th>customer_id</th>\n",
       "      <th>num_orders</th>\n",
       "      <th>total_spent</th>\n",
       "      <th>purchase_freq</th>\n",
       "      <th>num_returns</th>\n",
       "    </tr>\n",
       "  </thead>\n",
       "  <tbody>\n",
       "    <tr>\n",
       "      <th>0</th>\n",
       "      <td>102013</td>\n",
       "      <td>16</td>\n",
       "      <td>6274.04</td>\n",
       "      <td>30</td>\n",
       "      <td>1</td>\n",
       "    </tr>\n",
       "    <tr>\n",
       "      <th>1</th>\n",
       "      <td>100410</td>\n",
       "      <td>16</td>\n",
       "      <td>7373.32</td>\n",
       "      <td>30</td>\n",
       "      <td>1</td>\n",
       "    </tr>\n",
       "    <tr>\n",
       "      <th>2</th>\n",
       "      <td>102204</td>\n",
       "      <td>16</td>\n",
       "      <td>4537.68</td>\n",
       "      <td>27</td>\n",
       "      <td>1</td>\n",
       "    </tr>\n",
       "    <tr>\n",
       "      <th>3</th>\n",
       "      <td>100104</td>\n",
       "      <td>16</td>\n",
       "      <td>2996.33</td>\n",
       "      <td>33</td>\n",
       "      <td>1</td>\n",
       "    </tr>\n",
       "    <tr>\n",
       "      <th>4</th>\n",
       "      <td>101825</td>\n",
       "      <td>16</td>\n",
       "      <td>6848.36</td>\n",
       "      <td>24</td>\n",
       "      <td>1</td>\n",
       "    </tr>\n",
       "    <tr>\n",
       "      <th>...</th>\n",
       "      <td>...</td>\n",
       "      <td>...</td>\n",
       "      <td>...</td>\n",
       "      <td>...</td>\n",
       "      <td>...</td>\n",
       "    </tr>\n",
       "    <tr>\n",
       "      <th>29495</th>\n",
       "      <td>112683</td>\n",
       "      <td>15</td>\n",
       "      <td>7210.51</td>\n",
       "      <td>30</td>\n",
       "      <td>1</td>\n",
       "    </tr>\n",
       "    <tr>\n",
       "      <th>29496</th>\n",
       "      <td>122644</td>\n",
       "      <td>15</td>\n",
       "      <td>11472.98</td>\n",
       "      <td>35</td>\n",
       "      <td>1</td>\n",
       "    </tr>\n",
       "    <tr>\n",
       "      <th>29497</th>\n",
       "      <td>108628</td>\n",
       "      <td>15</td>\n",
       "      <td>7700.66</td>\n",
       "      <td>38</td>\n",
       "      <td>1</td>\n",
       "    </tr>\n",
       "    <tr>\n",
       "      <th>29498</th>\n",
       "      <td>108992</td>\n",
       "      <td>15</td>\n",
       "      <td>3912.85</td>\n",
       "      <td>29</td>\n",
       "      <td>1</td>\n",
       "    </tr>\n",
       "    <tr>\n",
       "      <th>29499</th>\n",
       "      <td>116831</td>\n",
       "      <td>15</td>\n",
       "      <td>6721.98</td>\n",
       "      <td>34</td>\n",
       "      <td>1</td>\n",
       "    </tr>\n",
       "  </tbody>\n",
       "</table>\n",
       "<p>29500 rows × 5 columns</p>\n",
       "</div>"
      ],
      "text/plain": [
       "       customer_id  num_orders total_spent  purchase_freq num_returns\n",
       "0           102013          16     6274.04             30           1\n",
       "1           100410          16     7373.32             30           1\n",
       "2           102204          16     4537.68             27           1\n",
       "3           100104          16     2996.33             33           1\n",
       "4           101825          16     6848.36             24           1\n",
       "...            ...         ...         ...            ...         ...\n",
       "29495       112683          15     7210.51             30           1\n",
       "29496       122644          15    11472.98             35           1\n",
       "29497       108628          15     7700.66             38           1\n",
       "29498       108992          15     3912.85             29           1\n",
       "29499       116831          15     6721.98             34           1\n",
       "\n",
       "[29500 rows x 5 columns]"
      ]
     },
     "execution_count": 10,
     "metadata": {},
     "output_type": "execute_result"
    }
   ],
   "source": [
    "fact_table"
   ]
  },
  {
   "cell_type": "code",
   "execution_count": 11,
   "id": "b3095fbf",
   "metadata": {},
   "outputs": [],
   "source": [
    "s3 = boto3.client('s3')"
   ]
  },
  {
   "cell_type": "code",
   "execution_count": 12,
   "id": "55a77600",
   "metadata": {},
   "outputs": [],
   "source": [
    "fact_table.to_csv('fact_table.csv', index=False)"
   ]
  },
  {
   "cell_type": "code",
   "execution_count": 13,
   "id": "56eafc75",
   "metadata": {},
   "outputs": [],
   "source": [
    "s3.upload_file(\n",
    "    Filename='fact_table.csv',\n",
    "    Bucket='on-premise-dump-files',\n",
    "    Key='transformed/fact_table.csv',\n",
    ")"
   ]
  },
  {
   "cell_type": "code",
   "execution_count": 14,
   "id": "d23532da",
   "metadata": {},
   "outputs": [],
   "source": [
    "s3.upload_file(\n",
    "    Filename='ETL.ipynb', Bucket='on-premise-dump-files', Key='transformed/ETL.ipynb'\n",
    ")"
   ]
  },
  {
   "cell_type": "markdown",
   "id": "39936dac",
   "metadata": {},
   "source": [
    "# Dynamo"
   ]
  },
  {
   "cell_type": "code",
   "execution_count": 15,
   "id": "27a6acc5",
   "metadata": {},
   "outputs": [],
   "source": [
    "dynamo = boto3.resource('dynamodb', region_name='us-east-1')\n",
    "table = dynamo.Table('products')\n",
    "from boto3.dynamodb.conditions import Key, Attr"
   ]
  },
  {
   "cell_type": "code",
   "execution_count": 16,
   "id": "9a2765f7",
   "metadata": {},
   "outputs": [
    {
     "data": {
      "text/plain": [
       "{'Items': [{'dimension': None,\n",
       "   'upc': '8.84E+11',\n",
       "   'product_photos_qty': Decimal('4'),\n",
       "   'product_name': 'Dr. Martens Girl Delany Boots',\n",
       "   'brand': 'Justin',\n",
       "   'sizes': '2',\n",
       "   'product_id': 'TEC-PH-10002070',\n",
       "   'weight': None,\n",
       "   'manufacturer': 'Dr. Martens',\n",
       "   'colors': 'Blue',\n",
       "   'categories': \"Clothing,Shoes,Men's Shoes,Men's Boots\",\n",
       "   'dateAdded': '2016-09-12T11:50:29Z',\n",
       "   'dateUpdated': '2016-09-23T13:07:28Z'}],\n",
       " 'Count': 1,\n",
       " 'ScannedCount': 1,\n",
       " 'ResponseMetadata': {'RequestId': 'CLBNVG9QKGNBT585S4R2B5210JVV4KQNSO5AEMVJF66Q9ASUAAJG',\n",
       "  'HTTPStatusCode': 200,\n",
       "  'HTTPHeaders': {'server': 'Server',\n",
       "   'date': 'Thu, 26 Aug 2021 15:26:01 GMT',\n",
       "   'content-type': 'application/x-amz-json-1.0',\n",
       "   'content-length': '475',\n",
       "   'connection': 'keep-alive',\n",
       "   'x-amzn-requestid': 'CLBNVG9QKGNBT585S4R2B5210JVV4KQNSO5AEMVJF66Q9ASUAAJG',\n",
       "   'x-amz-crc32': '1012503775'},\n",
       "  'RetryAttempts': 0}}"
      ]
     },
     "execution_count": 16,
     "metadata": {},
     "output_type": "execute_result"
    }
   ],
   "source": [
    "query_product = 'TEC-PH-10002070'\n",
    "\n",
    "table.query(KeyConditionExpression=Key('product_id').eq(query_product))"
   ]
  },
  {
   "cell_type": "code",
   "execution_count": null,
   "id": "c78257b9",
   "metadata": {},
   "outputs": [],
   "source": []
  }
 ],
 "metadata": {
  "kernelspec": {
   "display_name": "Python 3 (ipykernel)",
   "language": "python",
   "name": "python3"
  },
  "language_info": {
   "codemirror_mode": {
    "name": "ipython",
    "version": 3
   },
   "file_extension": ".py",
   "mimetype": "text/x-python",
   "name": "python",
   "nbconvert_exporter": "python",
   "pygments_lexer": "ipython3",
   "version": "3.8.2"
  }
 },
 "nbformat": 4,
 "nbformat_minor": 5
}
